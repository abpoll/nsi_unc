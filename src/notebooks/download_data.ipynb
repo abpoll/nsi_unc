{
 "cells": [
  {
   "cell_type": "markdown",
   "id": "2e4d30d3-e9e9-415f-acad-a9c249dbb114",
   "metadata": {},
   "source": [
    "# Configure"
   ]
  },
  {
   "cell_type": "code",
   "execution_count": 1,
   "id": "737a88d6-6fd3-49e9-b7c6-b6dd97a369ff",
   "metadata": {
    "execution": {
     "iopub.execute_input": "2024-01-26T22:52:29.149062Z",
     "iopub.status.busy": "2024-01-26T22:52:29.148470Z",
     "iopub.status.idle": "2024-01-26T22:52:29.186622Z",
     "shell.execute_reply": "2024-01-26T22:52:29.185131Z",
     "shell.execute_reply.started": "2024-01-26T22:52:29.149005Z"
    }
   },
   "outputs": [],
   "source": [
    "%load_ext autoreload\n",
    "%autoreload 2"
   ]
  },
  {
   "cell_type": "code",
   "execution_count": 2,
   "id": "d48360e3-1432-4ba2-b1e3-a642eefa9eea",
   "metadata": {
    "execution": {
     "iopub.execute_input": "2024-01-26T22:52:37.466885Z",
     "iopub.status.busy": "2024-01-26T22:52:37.466255Z",
     "iopub.status.idle": "2024-01-26T22:52:40.100468Z",
     "shell.execute_reply": "2024-01-26T22:52:40.099134Z",
     "shell.execute_reply.started": "2024-01-26T22:52:37.466828Z"
    }
   },
   "outputs": [],
   "source": [
    "# Packages\n",
    "import requests\n",
    "import os\n",
    "from os.path import join\n",
    "from pathlib import Path\n",
    "import pandas as pd\n",
    "from util.download import *\n",
    "from util.files import *\n",
    "from util.const import *"
   ]
  },
  {
   "cell_type": "code",
   "execution_count": 5,
   "id": "1029c5f1-668d-441a-84b0-f2be2990445a",
   "metadata": {
    "execution": {
     "iopub.execute_input": "2024-01-26T21:10:24.694107Z",
     "iopub.status.busy": "2024-01-26T21:10:24.693449Z",
     "iopub.status.idle": "2024-01-26T21:10:25.080924Z",
     "shell.execute_reply": "2024-01-26T21:10:25.078951Z",
     "shell.execute_reply.started": "2024-01-26T21:10:24.694051Z"
    }
   },
   "outputs": [],
   "source": [
    "# Need a wcard_dict where we map\n",
    "# the items in URL_WILDCARDS to the\n",
    "# fips, state_abbr, or state_fips\n",
    "# For our case study, we can specify\n",
    "# a dict for all of these\n",
    "# But in the future we can have a .csv\n",
    "# that maps STATE_FIPS to STATE_ABBR\n",
    "wcard_dict = {x: CONFIG[x[1:-1]][0] for x in URL_WILDCARDS}"
   ]
  },
  {
   "cell_type": "markdown",
   "id": "9d529f58-fdc4-4786-b965-22132504edc2",
   "metadata": {},
   "source": [
    "# Download data"
   ]
  },
  {
   "cell_type": "code",
   "execution_count": 6,
   "id": "448722d6-09e2-4ce9-a05e-eedfc8298bd5",
   "metadata": {
    "execution": {
     "iopub.execute_input": "2024-01-26T21:10:26.066762Z",
     "iopub.status.busy": "2024-01-26T21:10:26.066164Z",
     "iopub.status.idle": "2024-01-26T21:10:26.107769Z",
     "shell.execute_reply": "2024-01-26T21:10:26.105754Z",
     "shell.execute_reply.started": "2024-01-26T21:10:26.066710Z"
    }
   },
   "outputs": [],
   "source": [
    "# NSI API has been down before, in which case\n",
    "# you can download the rest of the files by\n",
    "# updating this to 1:0\n",
    "temp = DOWNLOAD"
   ]
  },
  {
   "cell_type": "code",
   "execution_count": 7,
   "id": "f00192f9-d433-4d22-aa23-5f5294fad64d",
   "metadata": {
    "execution": {
     "iopub.execute_input": "2024-01-26T21:10:27.575388Z",
     "iopub.status.busy": "2024-01-26T21:10:27.574803Z",
     "iopub.status.idle": "2024-01-26T21:11:48.492496Z",
     "shell.execute_reply": "2024-01-26T21:11:48.491292Z",
     "shell.execute_reply.started": "2024-01-26T21:10:27.575337Z"
    }
   },
   "outputs": [
    {
     "name": "stdout",
     "output_type": "stream",
     "text": [
      "Downloaded from: https://nsi.sec.usace.army.mil/nsiapi/structures?fips=42101\n",
      "Downloaded from: https://coast.noaa.gov/htdata/SocioEconomic/SoVI2010/SoVI_2010_PA.zip\n",
      "Downloaded from: https://www2.census.gov/geo/tiger/TIGER2022/TRACT/tl_2022_42_tract.zip\n",
      "Downloaded from: https://www2.census.gov/geo/tiger/TIGER2022/BG/tl_2022_42_bg.zip\n",
      "Downloaded from: https://www2.census.gov/geo/tiger/TIGER2022/TABBLOCK20/tl_2022_42_tabblock20.zip\n",
      "Downloaded from: https://static-data-screeningtool.geoplatform.gov/data-versions/1.0/data/score/downloadable/1.0-communities.csv\n",
      "Downloaded from: https://www2.census.gov/geo/tiger/TIGER2022/COUNTY/tl_2022_us_county.zip\n",
      "Downloaded from: https://www2.census.gov/geo/tiger/TIGER2022/ZCTA520/tl_2022_us_zcta520.zip\n"
     ]
    }
   ],
   "source": [
    "download_raw(temp, wcard_dict)"
   ]
  },
  {
   "cell_type": "code",
   "execution_count": null,
   "id": "a38a17f1-b38f-4e9f-8358-0987708616ce",
   "metadata": {},
   "outputs": [],
   "source": []
  }
 ],
 "metadata": {
  "kernelspec": {
   "display_name": "UNSAFE",
   "language": "python",
   "name": "unsafe01"
  },
  "language_info": {
   "codemirror_mode": {
    "name": "ipython",
    "version": 3
   },
   "file_extension": ".py",
   "mimetype": "text/x-python",
   "name": "python",
   "nbconvert_exporter": "python",
   "pygments_lexer": "ipython3",
   "version": "3.12.1"
  },
  "widgets": {
   "application/vnd.jupyter.widget-state+json": {
    "state": {},
    "version_major": 2,
    "version_minor": 0
   }
  }
 },
 "nbformat": 4,
 "nbformat_minor": 5
}
