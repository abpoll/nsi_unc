{
 "cells": [
  {
   "cell_type": "markdown",
   "id": "2e4d30d3-e9e9-415f-acad-a9c249dbb114",
   "metadata": {},
   "source": [
    "# Configure"
   ]
  },
  {
   "cell_type": "code",
   "execution_count": 5,
   "id": "737a88d6-6fd3-49e9-b7c6-b6dd97a369ff",
   "metadata": {
    "execution": {
     "iopub.execute_input": "2024-01-26T22:18:33.560404Z",
     "iopub.status.busy": "2024-01-26T22:18:33.559780Z",
     "iopub.status.idle": "2024-01-26T22:18:34.096206Z",
     "shell.execute_reply": "2024-01-26T22:18:34.094615Z",
     "shell.execute_reply.started": "2024-01-26T22:18:33.560349Z"
    }
   },
   "outputs": [
    {
     "name": "stdout",
     "output_type": "stream",
     "text": [
      "The autoreload extension is already loaded. To reload it, use:\n",
      "  %reload_ext autoreload\n"
     ]
    }
   ],
   "source": [
    "%load_ext autoreload\n",
    "%autoreload 2"
   ]
  },
  {
   "cell_type": "code",
   "execution_count": 6,
   "id": "258d123d-4c99-40bd-82d9-ac27f5d7eb0f",
   "metadata": {
    "execution": {
     "iopub.execute_input": "2024-01-26T22:18:34.098913Z",
     "iopub.status.busy": "2024-01-26T22:18:34.098349Z",
     "iopub.status.idle": "2024-01-26T22:18:34.140037Z",
     "shell.execute_reply": "2024-01-26T22:18:34.138498Z",
     "shell.execute_reply.started": "2024-01-26T22:18:34.098849Z"
    }
   },
   "outputs": [
    {
     "data": {
      "text/plain": [
       "['/jumbo/keller-lab/projects/icom/nsi_unc/workflow/notebooks',\n",
       " '/jumbo/keller-lab/Applications/mambaforge/envs/unsafe01/lib/python312.zip',\n",
       " '/jumbo/keller-lab/Applications/mambaforge/envs/unsafe01/lib/python3.12',\n",
       " '/jumbo/keller-lab/Applications/mambaforge/envs/unsafe01/lib/python3.12/lib-dynload',\n",
       " '',\n",
       " '/jumbo/keller-lab/Applications/mambaforge/envs/unsafe01/lib/python3.12/site-packages']"
      ]
     },
     "execution_count": 6,
     "metadata": {},
     "output_type": "execute_result"
    }
   ],
   "source": [
    "import sys\n",
    "sys.path"
   ]
  },
  {
   "cell_type": "code",
   "execution_count": 8,
   "id": "36660789-f557-4523-a74c-21d23c552a28",
   "metadata": {
    "execution": {
     "iopub.execute_input": "2024-01-26T22:19:02.401701Z",
     "iopub.status.busy": "2024-01-26T22:19:02.401094Z",
     "iopub.status.idle": "2024-01-26T22:19:02.555182Z",
     "shell.execute_reply": "2024-01-26T22:19:02.553461Z",
     "shell.execute_reply.started": "2024-01-26T22:19:02.401650Z"
    }
   },
   "outputs": [
    {
     "ename": "ModuleNotFoundError",
     "evalue": "No module named 'util'",
     "output_type": "error",
     "traceback": [
      "\u001b[0;31m---------------------------------------------------------------------------\u001b[0m",
      "\u001b[0;31mModuleNotFoundError\u001b[0m                       Traceback (most recent call last)",
      "Cell \u001b[0;32mIn[8], line 1\u001b[0m\n\u001b[0;32m----> 1\u001b[0m \u001b[38;5;28;01mimport\u001b[39;00m \u001b[38;5;21;01mutil\u001b[39;00m\u001b[38;5;21;01m.\u001b[39;00m\u001b[38;5;21;01mdownload\u001b[39;00m\n",
      "\u001b[0;31mModuleNotFoundError\u001b[0m: No module named 'util'"
     ]
    }
   ],
   "source": [
    "import util.download"
   ]
  },
  {
   "cell_type": "code",
   "execution_count": 2,
   "id": "60ec66b0-f9dd-43f6-8a4f-ab7c5208effa",
   "metadata": {
    "execution": {
     "iopub.execute_input": "2024-01-26T21:09:20.978136Z",
     "iopub.status.busy": "2024-01-26T21:09:20.977472Z",
     "iopub.status.idle": "2024-01-26T21:09:21.278399Z",
     "shell.execute_reply": "2024-01-26T21:09:21.276334Z",
     "shell.execute_reply.started": "2024-01-26T21:09:20.978080Z"
    }
   },
   "outputs": [],
   "source": [
    "## TODO - I have to figure out how to do this. It might be something\n",
    "# you can do with python3 -m pip install -e <path>\n",
    "# from the workflow/ after activating your conda environment\n",
    "# I'll give that a shot\n",
    "\n",
    "import sys\n",
    "sys.path.append('/jumbo/keller-lab/projects/icom/nsi_unc/workflow')"
   ]
  },
  {
   "cell_type": "code",
   "execution_count": 2,
   "id": "d48360e3-1432-4ba2-b1e3-a642eefa9eea",
   "metadata": {
    "execution": {
     "iopub.execute_input": "2024-01-26T22:01:02.412027Z",
     "iopub.status.busy": "2024-01-26T22:01:02.411424Z",
     "iopub.status.idle": "2024-01-26T22:01:04.151553Z",
     "shell.execute_reply": "2024-01-26T22:01:04.150141Z",
     "shell.execute_reply.started": "2024-01-26T22:01:02.411972Z"
    }
   },
   "outputs": [
    {
     "name": "stderr",
     "output_type": "stream",
     "text": [
      "/tmp/ipykernel_176983/3469831482.py:6: DeprecationWarning: \n",
      "Pyarrow will become a required dependency of pandas in the next major release of pandas (pandas 3.0),\n",
      "(to allow more performant data types, such as the Arrow string type, and better interoperability with other libraries)\n",
      "but was not found to be installed on your system.\n",
      "If this would cause problems for you,\n",
      "please provide us feedback at https://github.com/pandas-dev/pandas/issues/54466\n",
      "        \n",
      "  import pandas as pd\n"
     ]
    },
    {
     "ename": "ModuleNotFoundError",
     "evalue": "No module named 'util'",
     "output_type": "error",
     "traceback": [
      "\u001b[0;31m---------------------------------------------------------------------------\u001b[0m",
      "\u001b[0;31mModuleNotFoundError\u001b[0m                       Traceback (most recent call last)",
      "Cell \u001b[0;32mIn[2], line 7\u001b[0m\n\u001b[1;32m      5\u001b[0m \u001b[38;5;28;01mfrom\u001b[39;00m \u001b[38;5;21;01mpathlib\u001b[39;00m \u001b[38;5;28;01mimport\u001b[39;00m Path\n\u001b[1;32m      6\u001b[0m \u001b[38;5;28;01mimport\u001b[39;00m \u001b[38;5;21;01mpandas\u001b[39;00m \u001b[38;5;28;01mas\u001b[39;00m \u001b[38;5;21;01mpd\u001b[39;00m\n\u001b[0;32m----> 7\u001b[0m \u001b[38;5;28;01mfrom\u001b[39;00m \u001b[38;5;21;01mutil\u001b[39;00m\u001b[38;5;21;01m.\u001b[39;00m\u001b[38;5;21;01mdownload\u001b[39;00m \u001b[38;5;28;01mimport\u001b[39;00m \u001b[38;5;241m*\u001b[39m\n\u001b[1;32m      8\u001b[0m \u001b[38;5;28;01mfrom\u001b[39;00m \u001b[38;5;21;01mutil\u001b[39;00m\u001b[38;5;21;01m.\u001b[39;00m\u001b[38;5;21;01mfiles\u001b[39;00m \u001b[38;5;28;01mimport\u001b[39;00m \u001b[38;5;241m*\u001b[39m\n\u001b[1;32m      9\u001b[0m \u001b[38;5;28;01mfrom\u001b[39;00m \u001b[38;5;21;01mutil\u001b[39;00m\u001b[38;5;21;01m.\u001b[39;00m\u001b[38;5;21;01mconst\u001b[39;00m \u001b[38;5;28;01mimport\u001b[39;00m \u001b[38;5;241m*\u001b[39m\n",
      "\u001b[0;31mModuleNotFoundError\u001b[0m: No module named 'util'"
     ]
    }
   ],
   "source": [
    "# Packages\n",
    "import requests\n",
    "import os\n",
    "from os.path import join\n",
    "from pathlib import Path\n",
    "import pandas as pd\n",
    "from util.download import *\n",
    "from util.files import *\n",
    "from util.const import *"
   ]
  },
  {
   "cell_type": "code",
   "execution_count": 4,
   "id": "e835157b-26a8-4178-a6bc-a3f1cbbe14de",
   "metadata": {
    "execution": {
     "iopub.execute_input": "2024-01-26T21:09:48.709626Z",
     "iopub.status.busy": "2024-01-26T21:09:48.708878Z",
     "iopub.status.idle": "2024-01-26T21:09:48.921047Z",
     "shell.execute_reply": "2024-01-26T21:09:48.919120Z",
     "shell.execute_reply.started": "2024-01-26T21:09:48.709573Z"
    }
   },
   "outputs": [
    {
     "data": {
      "text/plain": [
       "PosixPath('/jumbo/keller-lab/projects/icom/nsi_unc')"
      ]
     },
     "execution_count": 4,
     "metadata": {},
     "output_type": "execute_result"
    }
   ],
   "source": [
    "ABS_DIR"
   ]
  },
  {
   "cell_type": "code",
   "execution_count": 5,
   "id": "1029c5f1-668d-441a-84b0-f2be2990445a",
   "metadata": {
    "execution": {
     "iopub.execute_input": "2024-01-26T21:10:24.694107Z",
     "iopub.status.busy": "2024-01-26T21:10:24.693449Z",
     "iopub.status.idle": "2024-01-26T21:10:25.080924Z",
     "shell.execute_reply": "2024-01-26T21:10:25.078951Z",
     "shell.execute_reply.started": "2024-01-26T21:10:24.694051Z"
    }
   },
   "outputs": [],
   "source": [
    "# Need a wcard_dict where we map\n",
    "# the items in URL_WILDCARDS to the\n",
    "# fips, state_abbr, or state_fips\n",
    "# For our case study, we can specify\n",
    "# a dict for all of these\n",
    "# But in the future we can have a .csv\n",
    "# that maps STATE_FIPS to STATE_ABBR\n",
    "wcard_dict = {x: CONFIG[x[1:-1]][0] for x in URL_WILDCARDS}"
   ]
  },
  {
   "cell_type": "markdown",
   "id": "9d529f58-fdc4-4786-b965-22132504edc2",
   "metadata": {},
   "source": [
    "# Download data"
   ]
  },
  {
   "cell_type": "code",
   "execution_count": 6,
   "id": "448722d6-09e2-4ce9-a05e-eedfc8298bd5",
   "metadata": {
    "execution": {
     "iopub.execute_input": "2024-01-26T21:10:26.066762Z",
     "iopub.status.busy": "2024-01-26T21:10:26.066164Z",
     "iopub.status.idle": "2024-01-26T21:10:26.107769Z",
     "shell.execute_reply": "2024-01-26T21:10:26.105754Z",
     "shell.execute_reply.started": "2024-01-26T21:10:26.066710Z"
    }
   },
   "outputs": [],
   "source": [
    "# NSI API has been down before, in which case\n",
    "# you can download the rest of the files by\n",
    "# updating this to 1:0\n",
    "temp = DOWNLOAD.iloc[0:]"
   ]
  },
  {
   "cell_type": "code",
   "execution_count": 7,
   "id": "f00192f9-d433-4d22-aa23-5f5294fad64d",
   "metadata": {
    "execution": {
     "iopub.execute_input": "2024-01-26T21:10:27.575388Z",
     "iopub.status.busy": "2024-01-26T21:10:27.574803Z",
     "iopub.status.idle": "2024-01-26T21:11:48.492496Z",
     "shell.execute_reply": "2024-01-26T21:11:48.491292Z",
     "shell.execute_reply.started": "2024-01-26T21:10:27.575337Z"
    }
   },
   "outputs": [
    {
     "name": "stdout",
     "output_type": "stream",
     "text": [
      "Downloaded from: https://nsi.sec.usace.army.mil/nsiapi/structures?fips=42101\n",
      "Downloaded from: https://coast.noaa.gov/htdata/SocioEconomic/SoVI2010/SoVI_2010_PA.zip\n",
      "Downloaded from: https://www2.census.gov/geo/tiger/TIGER2022/TRACT/tl_2022_42_tract.zip\n",
      "Downloaded from: https://www2.census.gov/geo/tiger/TIGER2022/BG/tl_2022_42_bg.zip\n",
      "Downloaded from: https://www2.census.gov/geo/tiger/TIGER2022/TABBLOCK20/tl_2022_42_tabblock20.zip\n",
      "Downloaded from: https://static-data-screeningtool.geoplatform.gov/data-versions/1.0/data/score/downloadable/1.0-communities.csv\n",
      "Downloaded from: https://www2.census.gov/geo/tiger/TIGER2022/COUNTY/tl_2022_us_county.zip\n",
      "Downloaded from: https://www2.census.gov/geo/tiger/TIGER2022/ZCTA520/tl_2022_us_zcta520.zip\n"
     ]
    }
   ],
   "source": [
    "download_raw(temp, wcard_dict)"
   ]
  },
  {
   "cell_type": "code",
   "execution_count": null,
   "id": "a38a17f1-b38f-4e9f-8358-0987708616ce",
   "metadata": {},
   "outputs": [],
   "source": []
  }
 ],
 "metadata": {
  "kernelspec": {
   "display_name": "UNSAFE",
   "language": "python",
   "name": "unsafe01"
  },
  "language_info": {
   "codemirror_mode": {
    "name": "ipython",
    "version": 3
   },
   "file_extension": ".py",
   "mimetype": "text/x-python",
   "name": "python",
   "nbconvert_exporter": "python",
   "pygments_lexer": "ipython3",
   "version": "3.12.1"
  },
  "widgets": {
   "application/vnd.jupyter.widget-state+json": {
    "state": {},
    "version_major": 2,
    "version_minor": 0
   }
  }
 },
 "nbformat": 4,
 "nbformat_minor": 5
}
