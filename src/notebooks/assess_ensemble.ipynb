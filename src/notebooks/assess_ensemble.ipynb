{
 "cells": [
  {
   "cell_type": "markdown",
   "id": "43682af2-8341-4820-9d5b-9c6866464a17",
   "metadata": {
    "execution": {
     "iopub.execute_input": "2023-09-11T14:57:14.031186Z",
     "iopub.status.busy": "2023-09-11T14:57:14.030645Z",
     "iopub.status.idle": "2023-09-11T14:57:14.038912Z",
     "shell.execute_reply": "2023-09-11T14:57:14.037070Z",
     "shell.execute_reply.started": "2023-09-11T14:57:14.031135Z"
    }
   },
   "source": [
    "# Configure"
   ]
  },
  {
   "cell_type": "code",
   "execution_count": null,
   "id": "75e2b26b-725b-400b-9396-0ecea8ca30b8",
   "metadata": {},
   "outputs": [],
   "source": [
    "%load_ext autoreload\n",
    "%autoreload 2"
   ]
  },
  {
   "cell_type": "code",
   "execution_count": null,
   "id": "2a9efab5-010d-40cf-a2e3-a8da7ab45f26",
   "metadata": {},
   "outputs": [],
   "source": [
    "import os\n",
    "from pathlib import Path\n",
    "import sys\n",
    "import glob\n",
    "from os.path import join\n",
    "os.environ['USE_PYGEOS'] = '0'\n",
    "import geopandas as gpd\n",
    "import pandas as pd\n",
    "import numpy as np\n",
    "import rasterio \n",
    "import rasterio.plot\n",
    "import rasterio.mask\n",
    "import json\n",
    "import matplotlib.pyplot as plt\n",
    "from matplotlib import ticker\n",
    "from matplotlib.lines import Line2D\n",
    "from matplotlib.patches import Patch, Rectangle\n",
    "import matplotlib.colors as mpc\n",
    "from matplotlib import colormaps, cm\n",
    "from matplotlib.collections import PatchCollection\n",
    "\n",
    "from util.files import *\n",
    "from util.const import *\n",
    "from util.ddfs import *\n",
    "\n"
   ]
  },
  {
   "cell_type": "markdown",
   "id": "2e010a6a-398d-4289-aa58-443675cb2535",
   "metadata": {},
   "source": [
    "# Load ensemble and default estimates"
   ]
  },
  {
   "cell_type": "code",
   "execution_count": null,
   "id": "585b99ec-2ba8-4ea6-a6c0-4e39a390d02c",
   "metadata": {},
   "outputs": [],
   "source": [
    "ens_df = pd.read_parquet(join(FO, 'ensemble.pqt'))\n",
    "def_df = pd.read_parquet(join(FO, 'benchmark_loss.pqt'))"
   ]
  },
  {
   "cell_type": "code",
   "execution_count": null,
   "id": "ae5e3c2f-6f11-4f7b-8fbb-c4425b1329f6",
   "metadata": {},
   "outputs": [],
   "source": [
    "# Also load in damage functions\n",
    "# Load DDFs\n",
    "naccs_ddfs = pd.read_parquet(join(VULN_DIR_I, 'physical', 'naccs_ddfs.pqt'))\n",
    "hazus_ddfs = pd.read_parquet(join(VULN_DIR_I, 'physical', 'hazus_ddfs.pqt'))\n",
    "hazus_nounc = pd.read_parquet(join(VULN_DIR_I, 'physical', 'hazus_ddfs_nounc.pqt'))\n",
    "\n",
    "# Load helper dictionaries\n",
    "with open(join(VULN_DIR_I, 'physical', 'hazus.json'), 'r') as fp:\n",
    "    HAZUS_MAX_DICT = json.load(fp)\n",
    "\n",
    "with open(join(VULN_DIR_I, 'physical', 'hazus_nounc.json'), 'r') as fp:\n",
    "    HAZUS_MAX_NOUNC_DICT = json.load(fp)\n",
    "\n",
    "with open(join(VULN_DIR_I, 'physical', 'naccs.json'), 'r') as fp:\n",
    "    NACCS_MAX_DICT = json.load(fp)"
   ]
  },
  {
   "cell_type": "markdown",
   "id": "6cb6ec6d-26bf-4979-a379-68302a82eaf3",
   "metadata": {},
   "source": [
    "# Visualize the ensemble"
   ]
  },
  {
   "cell_type": "markdown",
   "id": "5e89008c-8b98-4fa8-812a-aa95dea82d34",
   "metadata": {},
   "source": [
    "## Compare aggregate EAL"
   ]
  },
  {
   "cell_type": "code",
   "execution_count": null,
   "id": "4b2a69fd-eb75-457c-950c-95f9f4f482ed",
   "metadata": {},
   "outputs": [],
   "source": [
    "# Plot of the pdf of summed EAL within each SOW against the\n",
    "# single value from default method\n",
    "ens_sums = ens_df.groupby(['sow_ind'])['eal'].sum()/1e6\n",
    "fig, ax = plt.subplots(figsize=(10, 6),\n",
    "                       dpi=600)\n",
    "ens_sums.plot(kind='hist', ax=ax, color='blue', bins=50, alpha=.2,\n",
    "              label='histogram of EAL sums\\nacross ensemble members')\n",
    "ax.vlines(def_df['eal'].sum()/1e6, 0, 690, color='red', label='HAZUS Default EAL')\n",
    "ax.vlines(ens_sums.mean(), 0, 632, color='blue', label='Mean EAL across ensemble')\n",
    "ax.vlines(ens_sums.quantile(.95), 0, 150, color='darkblue', label='95%ile EAL across ensemble')\n",
    "ax.set_xlabel('Total Expected Annual Loss (EAL) Across Homes at Risk ($ Millions)', size=12)\n",
    "ax.set_ylabel('Frequency Across Ensemble Members', size=12)\n",
    "ax.legend(loc='upper right')\n",
    "\n",
    "\n",
    "# Save fig\n",
    "fig.savefig('/jumbo/keller-lab/projects/icom/nsi_unc/figures/benchmark.png',\n",
    "            bbox_inches='tight',\n",
    "            dpi=600)"
   ]
  },
  {
   "cell_type": "markdown",
   "id": "10aff6fa-2a05-48bd-961b-e049b7ce5c9c",
   "metadata": {},
   "source": [
    "## Compare property level EAL"
   ]
  },
  {
   "cell_type": "code",
   "execution_count": null,
   "id": "a1ea7202-7a96-4cc3-9bf6-4232832cb78d",
   "metadata": {},
   "outputs": [],
   "source": [
    "# Look at the proeprty with the largest variance in EAL across SOWs\n",
    "# Plot the distribution of EAL for this property and plot\n",
    "# what the benchmark point estimate is\n",
    "max_var_id = ens_df.groupby(['fd_id'])['eal'].std().idxmax()\n",
    "max_var_ens = ens_df[ens_df['fd_id'] == max_var_id]\n",
    "max_var_def = def_df[def_df['fd_id'] == max_var_id]\n",
    "fig, ax = plt.subplots(figsize=(10, 6))\n",
    "max_var_ens['eal'].plot(kind='hist', ax=ax, color='blue', bins=50, alpha=.2,\n",
    "                        label='Histogram of EAL for structure with\\nlargest EAL variance across ensemble members')\n",
    "ax.vlines(max_var_def['eal'], 0, 670, color='red', alpha=1, label='HAZUS Default EAL for same structure')\n",
    "ax.vlines(max_var_ens['eal'].mean(), 0, 670, color='blue', label='Mean EAL across ensemble for structure')\n",
    "ax.vlines(max_var_ens['eal'].quantile(.95), 0, 120, color='darkblue', label='95%ile EAL across ensemble for structure')\n",
    "ax.set_xlabel('Total EAL ($)')\n",
    "ax.legend(loc='upper right')"
   ]
  },
  {
   "cell_type": "code",
   "execution_count": null,
   "id": "050c7597-4ce7-4d35-9408-d47e8b2cff9a",
   "metadata": {},
   "outputs": [],
   "source": [
    "# Look at the proeprty with the smallest variance in EAL across SOWs\n",
    "# Plot the distribution of EAL for this property and plot\n",
    "# what the benchmark point estimate is\n",
    "min_var_id = ens_df.groupby(['fd_id'])['eal'].std().idxmin()\n",
    "min_var_ens = ens_df[ens_df['fd_id'] == min_var_id]\n",
    "min_var_def = def_df[def_df['fd_id'] == min_var_id]\n",
    "fig, ax = plt.subplots(figsize=(10, 6))\n",
    "min_var_ens['eal'].plot(kind='hist', ax=ax, color='blue', bins=50, alpha=.2,\n",
    "                        label='Histogram of EAL for structure with\\nsmallest EAL variance across ensemble members')\n",
    "ax.vlines(min_var_def['eal'], 0, 670, color='red', alpha=1, label='HAZUS Default EAL for same structure')\n",
    "ax.vlines(min_var_ens['eal'].mean(), 0, 670, color='blue', label='Mean EAL across ensemble for structure')\n",
    "ax.vlines(min_var_ens['eal'].quantile(.95), 0, 120, color='darkblue', label='95%ile EAL across ensemble for structure')\n",
    "ax.set_xlabel('Total EAL ($)')\n",
    "ax.legend(loc='upper right')"
   ]
  },
  {
   "cell_type": "code",
   "execution_count": null,
   "id": "fe5ebc77-d208-4407-bf00-2bd488d45270",
   "metadata": {},
   "outputs": [],
   "source": [
    "# Calculate the difference between mean EAL and default EAL\n",
    "# Plot the distribution of these differences (the bias)\n",
    "ens_means = ens_df.groupby(['fd_id'])['eal'].mean().reset_index()\n",
    "mean_def_diff = pd.merge(ens_means,\n",
    "                         def_df[['fd_id', 'eal']],\n",
    "                         on='fd_id',\n",
    "                         suffixes=['_ens', '_def'])\n",
    "mean_def_diff['pct_bias'] = 100*(mean_def_diff['eal_def'] - mean_def_diff['eal_ens'])/mean_def_diff['eal_ens']\n",
    "mean_def_diff['bias'] = (mean_def_diff['eal_def'] - mean_def_diff['eal_ens'])\n",
    "fig, ax = plt.subplots(figsize=(14, 6), ncols=2)\n",
    "mean_def_diff['pct_bias'].plot(kind='hist', ax=ax[0], color='blue', bins=50, alpha=.2,\n",
    "                           label='Property-level NSI % bias\\nrelative to ensemble mean EAL')\n",
    "ax[0].vlines(mean_def_diff['pct_bias'].mean(), 0, 157, color='red', alpha=1, label='Mean % bias')\n",
    "ax[0].vlines(mean_def_diff['pct_bias'].median(), 0, 110, color='darkblue', alpha=1, label='Median % bias')\n",
    "ax[0].set_xlabel('Percent Bias (%)')\n",
    "ax[0].legend(loc='upper left')\n",
    "\n",
    "mean_def_diff['bias'].plot(kind='hist', ax=ax[1], color='blue', bins=50, alpha=.2,\n",
    "                           label='Property-level NSI bias\\nrelative to ensemble mean EAL')\n",
    "ax[1].vlines(mean_def_diff['bias'].mean(), 0, 570, color='red', alpha=1, label='Mean bias')\n",
    "ax[1].vlines(mean_def_diff['bias'].median(), 0, 570, color='darkblue', alpha=1, label='Median bias')\n",
    "ax[1].set_xlabel('Bias ($)')\n",
    "ax[1].legend(loc='upper left')\n",
    "ax[1].set_xlim([-2000, 1500])\n",
    "fig.tight_layout()"
   ]
  },
  {
   "cell_type": "markdown",
   "id": "aa246f9c-59e8-43fa-b6b3-b2517b463144",
   "metadata": {},
   "source": [
    "# Compare inputs with and without uncertainty"
   ]
  },
  {
   "cell_type": "code",
   "execution_count": null,
   "id": "4194bddb-bcc7-40ec-bfa5-2a1af2685321",
   "metadata": {},
   "outputs": [],
   "source": [
    "# Compare ddfs w/o uncertainty to those with uncertainty\n",
    "# Let's do 1SWB, the most common occtype in our case study\n",
    "# according to the no uncertainty data\n",
    "ddf_id = '2SWB'\n",
    "hazus_id = '2SWB_A'\n",
    "naccs_plot = naccs_ddfs[naccs_ddfs['ddf_id'] == ddf_id]\n",
    "hazus_plot = hazus_ddfs[hazus_ddfs['ddf_id'] == hazus_id]\n",
    "hazus_nounc_plot = hazus_nounc[hazus_nounc['ddf_id'] == hazus_id]"
   ]
  },
  {
   "cell_type": "code",
   "execution_count": null,
   "id": "df7cc8af-0dce-4d0d-ac99-174f0625ed49",
   "metadata": {},
   "outputs": [],
   "source": [
    "# Add low/high to hazus_plot\n",
    "hazus_plot[['low', 'high']] = pd.DataFrame(hazus_plot['params'].tolist(),\n",
    "                                           index=hazus_plot.index)\n",
    "\n",
    "# Add low/mid/high to naccs_plot\n",
    "naccs_plot[['low', 'mid', 'high']] = pd.DataFrame(naccs_plot['params'].tolist(),\n",
    "                                                  index=naccs_plot.index)"
   ]
  },
  {
   "cell_type": "code",
   "execution_count": null,
   "id": "ad418b62-6667-413b-b17c-97f4e381e4ba",
   "metadata": {},
   "outputs": [],
   "source": [
    "# Plot our One Story With Basement ddfs\n",
    "fig, ax = plt.subplots(figsize=(8, 6),\n",
    "                       dpi=600)\n",
    "\n",
    "# First, plot no uncertainty as a black line\n",
    "hazus_nounc_plot.plot(x='depth_ft',\n",
    "                      y='rel_dam',\n",
    "                      ax=ax,\n",
    "                      lw=2,\n",
    "                      legend=False,\n",
    "                      color='black')\n",
    "\n",
    "# Second, plot naccs mid as a dashed blue line\n",
    "naccs_plot.plot(x='depth_ft',\n",
    "                y='mid',\n",
    "                ax=ax,\n",
    "                lw=1,\n",
    "                ls='dashed',\n",
    "                legend=False,\n",
    "                color='#0077BB')\n",
    "\n",
    "# Third, plot naccs low/high as a solid area\n",
    "ax.fill_between(naccs_plot['depth_ft'],\n",
    "                naccs_plot['low'],\n",
    "                naccs_plot['high'],\n",
    "                alpha=.5,\n",
    "                lw=0,\n",
    "                color='#0077BB')\n",
    "\n",
    "# Fourth, plot the hazus uncertainty low/high\n",
    "ax.fill_between(hazus_plot['depth_ft'],\n",
    "                hazus_plot['low'],\n",
    "                hazus_plot['high'],\n",
    "                alpha=.5,\n",
    "                lw=0,\n",
    "                color='#EE7733')\n",
    "\n",
    "# Limit axis from -9.1 to +10.1\n",
    "ax.set_xlim([-9.1, 10])\n",
    "\n",
    "# Style the axes\n",
    "ax.set_xlabel('Depth of Water (Ft.) Relative to First Floor', size=14)\n",
    "ax.set_ylabel('Percentage of Structure Value Compromised', size=14)\n",
    "ax.yaxis.set_major_formatter(ticker.PercentFormatter(xmax=1))\n",
    "ax.tick_params(labelsize=14)\n",
    "\n",
    "# Add a custom legend in the top left\n",
    "legend_elements = [Line2D([0], [0], color='black', lw=2, label='HAZUS DDF No Uncertainty (Benchmark)'),\n",
    "                   Patch(facecolor='#EE7733', alpha=.5,\n",
    "                         label='HAZUS DDF Uniform Bounds'),\n",
    "                   Line2D([0], [0], color='#0077BB', lw=1, ls='dashed',\n",
    "                          label='NACCS DDF Mode'),\n",
    "                   Patch(facecolor='#0077BB', alpha=.5,\n",
    "                         label='NACCS DDF Triangular Bounds'),\n",
    "                   ]\n",
    "ax.legend(handles=legend_elements,\n",
    "          bbox_to_anchor=(.35, .83),\n",
    "          loc='center',\n",
    "          fontsize='large',\n",
    "          frameon=False)\n",
    "\n",
    "fig.savefig('/jumbo/keller-lab/projects/icom/nsi_unc/figures/ddf_ex_2SWB.png',\n",
    "            bbox_inches='tight',\n",
    "            dpi=600)"
   ]
  },
  {
   "cell_type": "code",
   "execution_count": null,
   "id": "d285bf09-374b-4eb2-a294-29fc11495c44",
   "metadata": {},
   "outputs": [],
   "source": [
    "# Get a figure for uncertainty in structure value\n",
    "fd_id = 570878975\n",
    "# The fdid above has structure value of 168546 w/o unc\n",
    "# The median w/i unc is 158055, so close enough\n",
    "ens_struct = ens_df[ens_df['fd_id'] == fd_id]\n",
    "\n",
    "# Plot of the pdf of val for the example structure vs.\n",
    "# single value from default method\n",
    "fig, ax = plt.subplots(figsize=(8, 6),\n",
    "                       dpi=600)\n",
    "ens_struct['val_s'].plot(kind='hist', ax=ax, color='blue', bins=100, alpha=.2,\n",
    "                         label='Structure Value\\nacross ensemble')\n",
    "ax.vlines(168546, 0, 260, color='red', label='NSI Value (Benchmark)')\n",
    "ax.vlines(ens_struct['val_s'].mean(), 0, 260, color='blue', label='Mean across ensemble')\n",
    "ax.set_xlabel('Structure Value ($)', size=14)\n",
    "ax.set_ylabel('Frequency Across Ensemble Members', size=14)\n",
    "ax.tick_params(labelsize=14)\n",
    "ax.legend(loc='upper right')\n",
    "\n",
    "\n",
    "# Save fig\n",
    "fig.savefig('/jumbo/keller-lab/projects/icom/nsi_unc/figures/val_unc.png',\n",
    "            bbox_inches='tight',\n",
    "            dpi=600)"
   ]
  },
  {
   "cell_type": "code",
   "execution_count": null,
   "id": "f5ad24bd-940b-4c0e-ac7f-3e295cf234ac",
   "metadata": {},
   "outputs": [],
   "source": [
    "# Get a figure for uncertainty in structure value\n",
    "fd_id = 570878975\n",
    "# The fdid above is 1SWB\n",
    "ens_struct = ens_df[ens_df['fd_id'] == fd_id]\n",
    "\n",
    "ens_struct['archetype'] = ens_struct['fnd_type'] + '_' + ens_struct['stories']\n",
    "a_rename = {'B_1S': \"Basement\\n1 Story\",\n",
    "            'B_2S': 'Basement\\n2 Stories',\n",
    "            'C_1S': 'Crawl Space\\n1 Story',\n",
    "            'C_2S': 'Crawl Space\\n2 Stories',\n",
    "            'S_1S': \"Slab\\n1 Story\",\n",
    "            \"S_2S\": 'Slab\\n2 Stories'}\n",
    "ens_struct['atype'] = ens_struct['archetype'].map(a_rename)\n",
    "counts = ens_struct.groupby(['atype']).size()\n",
    "colors = ['#CC3311'] + ['#0077BB']*5\n",
    "\n",
    "fig, ax = plt.subplots(figsize=(10, 6))\n",
    "\n",
    "ax.barh(counts.index, counts.values,\n",
    "        color=colors)\n",
    "\n",
    "ax.tick_params(labelsize=12)\n",
    "\n",
    "ax.set_xlabel('Frequency Across Ensemble Members', size=14)\n",
    "\n",
    "# Add a custom legend in the top left\n",
    "legend_elements = [Patch(facecolor='#CC3311',\n",
    "                         label='NSI Default Value'),\n",
    "                   ]\n",
    "ax.legend(handles=legend_elements,\n",
    "          bbox_to_anchor=(.82, .93),\n",
    "          loc='center',\n",
    "          fontsize='x-large',\n",
    "          frameon=False)\n",
    "\n",
    "fig.savefig('/jumbo/keller-lab/projects/icom/nsi_unc/figures/fnd_type.png',\n",
    "            bbox_inches='tight',\n",
    "            dpi=600)"
   ]
  },
  {
   "cell_type": "code",
   "execution_count": null,
   "id": "a8ce3b37-1a05-40c1-9e96-6ca922359b19",
   "metadata": {},
   "outputs": [],
   "source": [
    "ens_struct['ffe'].describe()"
   ]
  },
  {
   "cell_type": "code",
   "execution_count": null,
   "id": "84fa2359-9363-4382-93c4-c00141d1d7fd",
   "metadata": {},
   "outputs": [],
   "source": [
    "# Get a figure for uncertainty in first floor elevation\n",
    "fd_id = 570878975\n",
    "# The fdid above has ffe = 2.0\n",
    "ens_struct = ens_df[ens_df['fd_id'] == fd_id]\n",
    "\n",
    "# \n",
    "counts = ens_struct.groupby(['ffe']).size()\n",
    "colors = ['#0077BB']*2 + ['#CC3311'] + ['#0077BB']*2\n",
    "\n",
    "fig, ax = plt.subplots(figsize=(10, 6))\n",
    "\n",
    "ax.bar(counts.index, counts.values,\n",
    "        color=colors)\n",
    "\n",
    "ax.tick_params(labelsize=12)\n",
    "\n",
    "ax.set_ylabel('Frequency Across Ensemble Members', size=14)\n",
    "ax.set_xlabel('First Floor Elevation (Feet)', size=14)\n",
    "\n",
    "# Add a custom legend in the top left\n",
    "legend_elements = [Patch(facecolor='#CC3311',\n",
    "                         label='NSI Default Value'),\n",
    "                   ]\n",
    "ax.legend(handles=legend_elements,\n",
    "          bbox_to_anchor=(.82, .93),\n",
    "          loc='center',\n",
    "          fontsize='x-large',\n",
    "          frameon=False)\n",
    "\n",
    "\n",
    "# Save fig\n",
    "fig.savefig('/jumbo/keller-lab/projects/icom/nsi_unc/figures/ffe_unc.png',\n",
    "            bbox_inches='tight',\n",
    "            dpi=600)"
   ]
  },
  {
   "cell_type": "code",
   "execution_count": null,
   "id": "4de44816-0c6f-4264-958d-5b5abb663733",
   "metadata": {},
   "outputs": [],
   "source": []
  }
 ],
 "metadata": {
  "kernelspec": {
   "display_name": "UNSAFE",
   "language": "python",
   "name": "unsafe01"
  },
  "language_info": {
   "codemirror_mode": {
    "name": "ipython",
    "version": 3
   },
   "file_extension": ".py",
   "mimetype": "text/x-python",
   "name": "python",
   "nbconvert_exporter": "python",
   "pygments_lexer": "ipython3",
   "version": "3.12.1"
  },
  "widgets": {
   "application/vnd.jupyter.widget-state+json": {
    "state": {},
    "version_major": 2,
    "version_minor": 0
   }
  }
 },
 "nbformat": 4,
 "nbformat_minor": 5
}
