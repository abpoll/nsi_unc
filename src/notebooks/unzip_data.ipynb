{
 "cells": [
  {
   "cell_type": "code",
   "execution_count": 1,
   "id": "6a8af4c5-2024-4d7a-8ef3-4dfa1e9be92a",
   "metadata": {
    "execution": {
     "iopub.execute_input": "2024-01-27T18:35:33.554772Z",
     "iopub.status.busy": "2024-01-27T18:35:33.553771Z",
     "iopub.status.idle": "2024-01-27T18:35:33.589071Z",
     "shell.execute_reply": "2024-01-27T18:35:33.587604Z",
     "shell.execute_reply.started": "2024-01-27T18:35:33.554714Z"
    }
   },
   "outputs": [],
   "source": [
    "%load_ext autoreload\n",
    "%autoreload 2"
   ]
  },
  {
   "cell_type": "code",
   "execution_count": 2,
   "id": "42a854ca-f258-4624-89e8-39375270b74e",
   "metadata": {
    "execution": {
     "iopub.execute_input": "2024-01-27T18:35:34.029679Z",
     "iopub.status.busy": "2024-01-27T18:35:34.029117Z",
     "iopub.status.idle": "2024-01-27T18:35:34.790891Z",
     "shell.execute_reply": "2024-01-27T18:35:34.789909Z",
     "shell.execute_reply.started": "2024-01-27T18:35:34.029625Z"
    }
   },
   "outputs": [],
   "source": [
    "from zipfile import ZipFile\n",
    "import zipfile_deflate64\n",
    "import os\n",
    "from pathlib import Path\n",
    "from collections import Counter\n",
    "from util.unzip import *"
   ]
  },
  {
   "cell_type": "code",
   "execution_count": 3,
   "id": "b44486d0-be60-435e-934c-9ccb3743b5aa",
   "metadata": {
    "execution": {
     "iopub.execute_input": "2024-01-27T18:35:34.791908Z",
     "iopub.status.busy": "2024-01-27T18:35:34.791707Z",
     "iopub.status.idle": "2024-01-27T18:35:34.821866Z",
     "shell.execute_reply": "2024-01-27T18:35:34.821273Z",
     "shell.execute_reply.started": "2024-01-27T18:35:34.791894Z"
    }
   },
   "outputs": [],
   "source": [
    "# Call zipped_downloads and unzipped_dirs\n",
    "# from the util.unzip script\n",
    "# This gives us a list\n",
    "# of files to unzip, and the directories\n",
    "# to unzip them to\n",
    "to_unzip = zipped_downloads()\n",
    "unzip_dirs = unzipped_dirs()"
   ]
  },
  {
   "cell_type": "code",
   "execution_count": 4,
   "id": "da03c967-3c8d-4b27-b51c-7b8c1f3c4203",
   "metadata": {
    "execution": {
     "iopub.execute_input": "2024-01-27T18:35:34.822593Z",
     "iopub.status.busy": "2024-01-27T18:35:34.822446Z",
     "iopub.status.idle": "2024-01-27T18:36:10.967502Z",
     "shell.execute_reply": "2024-01-27T18:36:10.965994Z",
     "shell.execute_reply.started": "2024-01-27T18:35:34.822581Z"
    }
   },
   "outputs": [
    {
     "name": "stdout",
     "output_type": "stream",
     "text": [
      "Unzipped: noaa\n",
      "Unzipped: 10027236\n",
      "Unzipped: county\n",
      "Unzipped: zcta\n",
      "Unzipped: block\n",
      "Unzipped: bg\n",
      "Unzipped: tract\n",
      "Unzipped: dg\n",
      "Unzipped: nfhl\n"
     ]
    }
   ],
   "source": [
    "# We're going to loop through the files we need to unzip\n",
    "# and extract them into the appropriate directories\n",
    "# One thing that will help the directory structure stay organized\n",
    "# is to keep track of what the destination parent directory is\n",
    "# If the parent directory appears multiple times in unzip_dirs\n",
    "# we should also use the name of the file (excluding extension)\n",
    "# as a subdirectory\n",
    "# We can use the Counter() class from collections for this...\n",
    "count = Counter(unzip_dirs)\n",
    "need_subdir = [k for k, v in count.items() if v > 1]\n",
    "\n",
    "for i, filepath in enumerate(to_unzip):\n",
    "    # Get path version of filepath tjat\n",
    "    # we are unzipping\n",
    "    path = Path(filepath)\n",
    "\n",
    "    # If unzip_dirs[i] is in need_subdir\n",
    "    # we are going to add a subdirectory\n",
    "    # from str.split('/')[-1][:-4]\n",
    "    # This gives us noaa from noaa.zip, for example\n",
    "\n",
    "    # So first, we get our out_filedir\n",
    "    out_filedir = unzip_dirs[i]\n",
    "    # Then we add subdir if we need it\n",
    "    if unzip_dirs[i] in need_subdir:\n",
    "        subdir = filepath.split('/')[-1][:-4]\n",
    "        out_filedir = join(out_filedir, subdir)\n",
    "        \n",
    "    # Extract to out_filedir\n",
    "    with ZipFile(path, \"r\") as zip_ref:\n",
    "        zip_ref.extractall(out_filedir)\n",
    "    \n",
    "    #TODO helpful log message\n",
    "    print('Unzipped: ' + str(path.name).split('.')[0])"
   ]
  },
  {
   "cell_type": "code",
   "execution_count": null,
   "id": "71aebc18-cbd4-45d7-9f64-b323d630953d",
   "metadata": {},
   "outputs": [],
   "source": []
  }
 ],
 "metadata": {
  "kernelspec": {
   "display_name": "UNSAFE",
   "language": "python",
   "name": "unsafe01"
  },
  "language_info": {
   "codemirror_mode": {
    "name": "ipython",
    "version": 3
   },
   "file_extension": ".py",
   "mimetype": "text/x-python",
   "name": "python",
   "nbconvert_exporter": "python",
   "pygments_lexer": "ipython3",
   "version": "3.12.1"
  },
  "widgets": {
   "application/vnd.jupyter.widget-state+json": {
    "state": {},
    "version_major": 2,
    "version_minor": 0
   }
  }
 },
 "nbformat": 4,
 "nbformat_minor": 5
}
