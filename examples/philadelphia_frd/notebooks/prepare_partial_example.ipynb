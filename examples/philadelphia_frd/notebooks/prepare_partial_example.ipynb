{
 "cells": [
  {
   "cell_type": "markdown",
   "id": "4ce89f22",
   "metadata": {},
   "source": [
    "This notebook includes the code to prepare the partial data example. We run through the hazard files from the full_data_example and clip them to a small area. We write out these files and use them as inputs in the partial_data_example. "
   ]
  },
  {
   "cell_type": "markdown",
   "id": "43682af2-8341-4820-9d5b-9c6866464a17",
   "metadata": {
    "execution": {
     "iopub.execute_input": "2023-09-11T14:57:14.031186Z",
     "iopub.status.busy": "2023-09-11T14:57:14.030645Z",
     "iopub.status.idle": "2023-09-11T14:57:14.038912Z",
     "shell.execute_reply": "2023-09-11T14:57:14.037070Z",
     "shell.execute_reply.started": "2023-09-11T14:57:14.031135Z"
    }
   },
   "source": [
    "# Configure"
   ]
  },
  {
   "cell_type": "code",
   "execution_count": 1,
   "id": "75e2b26b-725b-400b-9396-0ecea8ca30b8",
   "metadata": {},
   "outputs": [],
   "source": [
    "%load_ext autoreload\n",
    "%autoreload 2"
   ]
  },
  {
   "cell_type": "code",
   "execution_count": 46,
   "id": "2a9efab5-010d-40cf-a2e3-a8da7ab45f26",
   "metadata": {},
   "outputs": [],
   "source": [
    "import os\n",
    "from pathlib import Path\n",
    "import sys\n",
    "import glob\n",
    "from os.path import join\n",
    "os.environ['USE_PYGEOS'] = '0'\n",
    "import yaml\n",
    "from yaml.loader import SafeLoader\n",
    "import geopandas as gpd\n",
    "import pandas as pd\n",
    "import numpy as np\n",
    "import rasterio \n",
    "import rasterio.mask\n",
    "from shapely.geometry import Polygon\n",
    "import zipfile\n",
    "\n",
    "from unsafe.files import *\n"
   ]
  },
  {
   "cell_type": "markdown",
   "id": "2e010a6a-398d-4289-aa58-443675cb2535",
   "metadata": {},
   "source": [
    "# Get clipped depths and write out"
   ]
  },
  {
   "cell_type": "markdown",
   "id": "940163c7",
   "metadata": {},
   "source": [
    "It helps to use the config file from the full_data_example to read the hazard data and output the zipped directory of the clipped hazard data."
   ]
  },
  {
   "cell_type": "code",
   "execution_count": 8,
   "id": "aa44998b",
   "metadata": {},
   "outputs": [],
   "source": [
    "ABS_DIR = Path().absolute().parents[0]\n",
    "\n",
    "CONFIG_FILEP = join(ABS_DIR, 'config', 'config.yaml')\n",
    "with open(CONFIG_FILEP) as f:\n",
    "    CONFIG = yaml.load(f, Loader=SafeLoader)\n",
    "\n",
    "FR = join(ABS_DIR, \"data\", \"raw\")\n",
    "FE = join(FR, \"external\")\n",
    "HAZ_DIR_R = join(FE, \"haz\")\n",
    "UNZIP_DIR = join(FR, \"unzipped\")\n",
    "HAZ_DIR_UZ = join(UNZIP_DIR, \"external\", \"haz\")\n",
    "\n",
    "# Get hazard model variables\n",
    "# Get Return Period list\n",
    "RET_PERS = CONFIG['RPs']\n",
    "HAZ_FILEN = CONFIG['haz_filename']\n",
    "# Get CRS for depth grids\n",
    "HAZ_CRS = CONFIG['haz_crs']"
   ]
  },
  {
   "cell_type": "markdown",
   "id": "33b50007",
   "metadata": {},
   "source": [
    "We will create a bounding box. This extent was found in the full_data_example, and it captures an area with one of the highest risk properties according to the Philadelphia flood risk database. It also captures several other houses exposed to flooding. "
   ]
  },
  {
   "cell_type": "code",
   "execution_count": 23,
   "id": "4de44816-0c6f-4264-958d-5b5abb663733",
   "metadata": {},
   "outputs": [],
   "source": [
    "minx = -75.10\n",
    "maxx = -75.065\n",
    "miny = 40\n",
    "maxy = 40.02\n",
    "\n",
    "# Polygon representation of the above\n",
    "clip_geo = gpd.GeoDataFrame(geometry=[Polygon([[minx, miny], [minx, maxy],\n",
    "                                              [maxx, maxy], [maxx, miny]])],\n",
    "                            crs=\"EPSG:4326\")\n",
    "# Reproject to hazard coordinate ref system\n",
    "clip_geo_r = clip_geo.to_crs(HAZ_CRS)"
   ]
  },
  {
   "cell_type": "code",
   "execution_count": 45,
   "id": "baddb0e1",
   "metadata": {},
   "outputs": [],
   "source": [
    "# We want to loop through the hazard files, clip them to clip_geo_r\n",
    "# then save the clipped files in raw/external/haz/dg_clipped\n",
    "haz_clip_dir = join(HAZ_DIR_R, 'dg_clipped')\n",
    "haz_clip_filen = \"Depth_{RP}pct_clip.tif\"\n",
    "# Then we want to zip this directory and delete the uncompressed one\n",
    "for rp in RET_PERS:\n",
    "    dg = read_dg(rp, HAZ_DIR_UZ, HAZ_FILEN)\n",
    "    # Following https://rasterio.readthedocs.io/en/stable/topics/masking-by-shapefile.html\n",
    "    out_image, out_transform = rasterio.mask.mask(dg, clip_geo_r['geometry'], crop=True)\n",
    "    out_meta = dg.meta\n",
    "    out_meta.update({\"driver\": \"GTiff\",\n",
    "                    \"height\": out_image.shape[1],\n",
    "                    \"width\": out_image.shape[2],\n",
    "                    \"transform\": out_transform})\n",
    "    # We want to save in raw/external/haz/dg_clipped\n",
    "    rp_clip_filep = join(haz_clip_dir, haz_clip_filen.replace('{RP}', rp))\n",
    "\n",
    "    # We will write out each clipped raster\n",
    "    prepare_saving(rp_clip_filep)\n",
    "    with rasterio.open(rp_clip_filep, \"w\", **out_meta) as dest:\n",
    "        dest.write(out_image)"
   ]
  },
  {
   "cell_type": "markdown",
   "id": "6cce8a20",
   "metadata": {},
   "source": [
    "To get the example data ready, we used an Ubuntu command line to zip the directory. Then we deleted the uncompressed directory to get rid of redundant files. It is easiest to separate the partial data example in a separate working directory, so even though we write out the data above within the philadelphia_frd/ directory, we do the zipping in the phil_frd_sub/ directory and then delete the uncompressed directory in the former. "
   ]
  }
 ],
 "metadata": {
  "kernelspec": {
   "display_name": "unsafe01",
   "language": "python",
   "name": "python3"
  },
  "language_info": {
   "codemirror_mode": {
    "name": "ipython",
    "version": 3
   },
   "file_extension": ".py",
   "mimetype": "text/x-python",
   "name": "python",
   "nbconvert_exporter": "python",
   "pygments_lexer": "ipython3",
   "version": "3.12.1"
  },
  "widgets": {
   "application/vnd.jupyter.widget-state+json": {
    "state": {},
    "version_major": 2,
    "version_minor": 0
   }
  }
 },
 "nbformat": 4,
 "nbformat_minor": 5
}
