{
 "cells": [
  {
   "cell_type": "markdown",
   "id": "2e4d30d3-e9e9-415f-acad-a9c249dbb114",
   "metadata": {},
   "source": [
    "# Configure"
   ]
  },
  {
   "cell_type": "code",
   "execution_count": 1,
   "id": "737a88d6-6fd3-49e9-b7c6-b6dd97a369ff",
   "metadata": {
    "execution": {
     "iopub.execute_input": "2023-10-17T13:14:28.371590Z",
     "iopub.status.busy": "2023-10-17T13:14:28.371026Z",
     "iopub.status.idle": "2023-10-17T13:14:28.433097Z",
     "shell.execute_reply": "2023-10-17T13:14:28.431614Z",
     "shell.execute_reply.started": "2023-10-17T13:14:28.371538Z"
    }
   },
   "outputs": [],
   "source": [
    "%load_ext autoreload\n",
    "%autoreload 2"
   ]
  },
  {
   "cell_type": "code",
   "execution_count": 2,
   "id": "8177eaca-aedf-4544-9d07-cf517d252e80",
   "metadata": {
    "execution": {
     "iopub.execute_input": "2023-10-17T13:14:28.728630Z",
     "iopub.status.busy": "2023-10-17T13:14:28.728135Z",
     "iopub.status.idle": "2023-10-17T13:14:28.751837Z",
     "shell.execute_reply": "2023-10-17T13:14:28.750021Z",
     "shell.execute_reply.started": "2023-10-17T13:14:28.728583Z"
    }
   },
   "outputs": [],
   "source": [
    "import sys\n",
    "sys.path.append('/jumbo/keller-lab/projects/icom/nsi_unc/workflow')"
   ]
  },
  {
   "cell_type": "code",
   "execution_count": 3,
   "id": "d48360e3-1432-4ba2-b1e3-a642eefa9eea",
   "metadata": {
    "execution": {
     "iopub.execute_input": "2023-10-17T13:14:29.100630Z",
     "iopub.status.busy": "2023-10-17T13:14:29.100134Z",
     "iopub.status.idle": "2023-10-17T13:14:30.380796Z",
     "shell.execute_reply": "2023-10-17T13:14:30.379676Z",
     "shell.execute_reply.started": "2023-10-17T13:14:29.100580Z"
    }
   },
   "outputs": [],
   "source": [
    "# Packages\n",
    "import requests\n",
    "import os\n",
    "from os.path import join\n",
    "from pathlib import Path\n",
    "import pandas as pd\n",
    "from util.download import *\n",
    "from util.files import *\n",
    "from util.const import *"
   ]
  },
  {
   "cell_type": "code",
   "execution_count": 4,
   "id": "1029c5f1-668d-441a-84b0-f2be2990445a",
   "metadata": {
    "execution": {
     "iopub.execute_input": "2023-10-17T13:14:30.382404Z",
     "iopub.status.busy": "2023-10-17T13:14:30.382086Z",
     "iopub.status.idle": "2023-10-17T13:14:30.400170Z",
     "shell.execute_reply": "2023-10-17T13:14:30.399084Z",
     "shell.execute_reply.started": "2023-10-17T13:14:30.382381Z"
    }
   },
   "outputs": [],
   "source": [
    "# Need a wcard_dict where we map\n",
    "# the items in URL_WILDCARDS to the\n",
    "# fips, state_abbr, or state_fips\n",
    "# For our case study, we can specify\n",
    "# a dict for all of these\n",
    "# But in the future we can have a .csv\n",
    "# that maps STATE_FIPS to STATE_ABBR\n",
    "wcard_dict = {x: CONFIG[x[1:-1]][0] for x in URL_WILDCARDS}"
   ]
  },
  {
   "cell_type": "markdown",
   "id": "9d529f58-fdc4-4786-b965-22132504edc2",
   "metadata": {},
   "source": [
    "# Download data"
   ]
  },
  {
   "cell_type": "code",
   "execution_count": 5,
   "id": "448722d6-09e2-4ce9-a05e-eedfc8298bd5",
   "metadata": {
    "execution": {
     "iopub.execute_input": "2023-10-17T13:14:34.250372Z",
     "iopub.status.busy": "2023-10-17T13:14:34.249962Z",
     "iopub.status.idle": "2023-10-17T13:14:34.277385Z",
     "shell.execute_reply": "2023-10-17T13:14:34.275558Z",
     "shell.execute_reply.started": "2023-10-17T13:14:34.250338Z"
    }
   },
   "outputs": [],
   "source": [
    "# NSI API is down at least\n",
    "# from Oct 13 through Oct 17\n",
    "# so testing on other files\n",
    "temp = DOWNLOAD.iloc[1:]"
   ]
  },
  {
   "cell_type": "code",
   "execution_count": null,
   "id": "f00192f9-d433-4d22-aa23-5f5294fad64d",
   "metadata": {
    "execution": {
     "iopub.execute_input": "2023-10-17T13:14:47.941394Z",
     "iopub.status.busy": "2023-10-17T13:14:47.940786Z"
    }
   },
   "outputs": [
    {
     "name": "stdout",
     "output_type": "stream",
     "text": [
      "Downloaded from: https://hazards.fema.gov/nfhlv2/output/County/420757_20230701.zip\n",
      "Downloaded from: https://coast.noaa.gov/htdata/SocioEconomic/SoVI2010/SoVI_2010_PA.zip\n",
      "Downloaded from: https://www2.census.gov/geo/tiger/TIGER2022/TRACT/tl_2022_42_tract.zip\n",
      "Downloaded from: https://www2.census.gov/geo/tiger/TIGER2022/BG/tl_2022_42_bg.zip\n",
      "Downloaded from: https://www2.census.gov/geo/tiger/TIGER2022/TABBLOCK20/tl_2022_42_tabblock20.zip\n",
      "Downloaded from: https://static-data-screeningtool.geoplatform.gov/data-versions/1.0/data/score/downloadable/1.0-communities.csv\n",
      "Downloaded from: https://www.hudexchange.info/sites/onecpd/assets/File/ACS_2015_lowmod_blockgroup_all.xlsx\n",
      "Downloaded from: https://www2.census.gov/geo/tiger/TIGER2022/COUNTY/tl_2022_us_county.zip\n"
     ]
    }
   ],
   "source": [
    "download_raw(temp, wcard_dict)"
   ]
  },
  {
   "cell_type": "code",
   "execution_count": null,
   "id": "c59a1635-d035-4d6b-8f68-8b3876cd7b80",
   "metadata": {},
   "outputs": [],
   "source": []
  }
 ],
 "metadata": {
  "kernelspec": {
   "display_name": "flrisk",
   "language": "python",
   "name": "flrisk"
  },
  "language_info": {
   "codemirror_mode": {
    "name": "ipython",
    "version": 3
   },
   "file_extension": ".py",
   "mimetype": "text/x-python",
   "name": "python",
   "nbconvert_exporter": "python",
   "pygments_lexer": "ipython3",
   "version": "3.11.5"
  },
  "widgets": {
   "application/vnd.jupyter.widget-state+json": {
    "state": {},
    "version_major": 2,
    "version_minor": 0
   }
  }
 },
 "nbformat": 4,
 "nbformat_minor": 5
}
