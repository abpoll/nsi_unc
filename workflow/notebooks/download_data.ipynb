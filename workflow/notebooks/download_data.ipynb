{
 "cells": [
  {
   "cell_type": "markdown",
   "id": "2e4d30d3-e9e9-415f-acad-a9c249dbb114",
   "metadata": {},
   "source": [
    "# Configure"
   ]
  },
  {
   "cell_type": "code",
   "execution_count": 1,
   "id": "737a88d6-6fd3-49e9-b7c6-b6dd97a369ff",
   "metadata": {
    "execution": {
     "iopub.execute_input": "2023-10-17T15:06:44.674623Z",
     "iopub.status.busy": "2023-10-17T15:06:44.674056Z",
     "iopub.status.idle": "2023-10-17T15:06:44.724585Z",
     "shell.execute_reply": "2023-10-17T15:06:44.723070Z",
     "shell.execute_reply.started": "2023-10-17T15:06:44.674572Z"
    }
   },
   "outputs": [],
   "source": [
    "%load_ext autoreload\n",
    "%autoreload 2"
   ]
  },
  {
   "cell_type": "code",
   "execution_count": 2,
   "id": "8177eaca-aedf-4544-9d07-cf517d252e80",
   "metadata": {
    "execution": {
     "iopub.execute_input": "2023-10-17T15:06:45.184466Z",
     "iopub.status.busy": "2023-10-17T15:06:45.183971Z",
     "iopub.status.idle": "2023-10-17T15:06:45.208268Z",
     "shell.execute_reply": "2023-10-17T15:06:45.206532Z",
     "shell.execute_reply.started": "2023-10-17T15:06:45.184421Z"
    }
   },
   "outputs": [],
   "source": [
    "import sys\n",
    "sys.path.append('/jumbo/keller-lab/projects/icom/nsi_unc/workflow')"
   ]
  },
  {
   "cell_type": "code",
   "execution_count": 3,
   "id": "d48360e3-1432-4ba2-b1e3-a642eefa9eea",
   "metadata": {
    "execution": {
     "iopub.execute_input": "2023-10-17T15:06:45.515693Z",
     "iopub.status.busy": "2023-10-17T15:06:45.515198Z",
     "iopub.status.idle": "2023-10-17T15:06:47.270680Z",
     "shell.execute_reply": "2023-10-17T15:06:47.269493Z",
     "shell.execute_reply.started": "2023-10-17T15:06:45.515644Z"
    }
   },
   "outputs": [],
   "source": [
    "# Packages\n",
    "import requests\n",
    "import os\n",
    "from os.path import join\n",
    "from pathlib import Path\n",
    "import pandas as pd\n",
    "from util.download import *\n",
    "from util.files import *\n",
    "from util.const import *"
   ]
  },
  {
   "cell_type": "code",
   "execution_count": 4,
   "id": "1029c5f1-668d-441a-84b0-f2be2990445a",
   "metadata": {
    "execution": {
     "iopub.execute_input": "2023-10-17T15:06:47.272263Z",
     "iopub.status.busy": "2023-10-17T15:06:47.271957Z",
     "iopub.status.idle": "2023-10-17T15:06:47.288719Z",
     "shell.execute_reply": "2023-10-17T15:06:47.287638Z",
     "shell.execute_reply.started": "2023-10-17T15:06:47.272240Z"
    }
   },
   "outputs": [],
   "source": [
    "# Need a wcard_dict where we map\n",
    "# the items in URL_WILDCARDS to the\n",
    "# fips, state_abbr, or state_fips\n",
    "# For our case study, we can specify\n",
    "# a dict for all of these\n",
    "# But in the future we can have a .csv\n",
    "# that maps STATE_FIPS to STATE_ABBR\n",
    "wcard_dict = {x: CONFIG[x[1:-1]][0] for x in URL_WILDCARDS}"
   ]
  },
  {
   "cell_type": "markdown",
   "id": "9d529f58-fdc4-4786-b965-22132504edc2",
   "metadata": {},
   "source": [
    "# Download data"
   ]
  },
  {
   "cell_type": "code",
   "execution_count": 5,
   "id": "448722d6-09e2-4ce9-a05e-eedfc8298bd5",
   "metadata": {
    "execution": {
     "iopub.execute_input": "2023-10-17T15:06:47.733848Z",
     "iopub.status.busy": "2023-10-17T15:06:47.732157Z",
     "iopub.status.idle": "2023-10-17T15:06:47.759681Z",
     "shell.execute_reply": "2023-10-17T15:06:47.758022Z",
     "shell.execute_reply.started": "2023-10-17T15:06:47.733800Z"
    }
   },
   "outputs": [],
   "source": [
    "# NSI API is down at least\n",
    "# from Oct 13 through Oct 17\n",
    "# so testing on other files\n",
    "temp = DOWNLOAD.iloc[1:]"
   ]
  },
  {
   "cell_type": "code",
   "execution_count": 6,
   "id": "9ee37731-ccbf-4357-8bfd-26117b632309",
   "metadata": {
    "execution": {
     "iopub.execute_input": "2023-10-17T15:06:48.257008Z",
     "iopub.status.busy": "2023-10-17T15:06:48.256493Z",
     "iopub.status.idle": "2023-10-17T15:06:48.297174Z",
     "shell.execute_reply": "2023-10-17T15:06:48.295398Z",
     "shell.execute_reply.started": "2023-10-17T15:06:48.256960Z"
    }
   },
   "outputs": [
    {
     "data": {
      "text/plain": [
       "['{FIPS}', '{STATEABBR}', '{STATEFIPS}', '{NATION}']"
      ]
     },
     "execution_count": 6,
     "metadata": {},
     "output_type": "execute_result"
    }
   ],
   "source": [
    "URL_WILDCARDS"
   ]
  },
  {
   "cell_type": "code",
   "execution_count": 7,
   "id": "0a3a6342-d4da-4e44-96ca-73b9ead77dd7",
   "metadata": {
    "execution": {
     "iopub.execute_input": "2023-10-17T15:06:49.607803Z",
     "iopub.status.busy": "2023-10-17T15:06:49.607299Z",
     "iopub.status.idle": "2023-10-17T15:06:49.641943Z",
     "shell.execute_reply": "2023-10-17T15:06:49.640474Z",
     "shell.execute_reply.started": "2023-10-17T15:06:49.607758Z"
    }
   },
   "outputs": [
    {
     "data": {
      "text/plain": [
       "'https://coast.noaa.gov/htdata/SocioEconomic/SoVI2010/SoVI_2010_{STATEABBR}.zip'"
      ]
     },
     "execution_count": 7,
     "metadata": {},
     "output_type": "execute_result"
    }
   ],
   "source": [
    "temp.iloc[1][0]"
   ]
  },
  {
   "cell_type": "code",
   "execution_count": 8,
   "id": "f00192f9-d433-4d22-aa23-5f5294fad64d",
   "metadata": {
    "execution": {
     "iopub.execute_input": "2023-10-17T15:06:50.991030Z",
     "iopub.status.busy": "2023-10-17T15:06:50.990471Z",
     "iopub.status.idle": "2023-10-17T15:07:58.065471Z",
     "shell.execute_reply": "2023-10-17T15:07:58.064663Z",
     "shell.execute_reply.started": "2023-10-17T15:06:50.990978Z"
    }
   },
   "outputs": [
    {
     "name": "stdout",
     "output_type": "stream",
     "text": [
      "Downloaded from: https://hazards.fema.gov/nfhlv2/output/County/420757_20230701.zip\n",
      "Downloaded from: https://coast.noaa.gov/htdata/SocioEconomic/SoVI2010/SoVI_2010_PA.zip\n",
      "Downloaded from: https://www2.census.gov/geo/tiger/TIGER2022/TRACT/tl_2022_42_tract.zip\n",
      "Downloaded from: https://www2.census.gov/geo/tiger/TIGER2022/BG/tl_2022_42_bg.zip\n",
      "Downloaded from: https://www2.census.gov/geo/tiger/TIGER2022/TABBLOCK20/tl_2022_42_tabblock20.zip\n",
      "Downloaded from: https://static-data-screeningtool.geoplatform.gov/data-versions/1.0/data/score/downloadable/1.0-communities.csv\n",
      "Downloaded from: https://www.hudexchange.info/sites/onecpd/assets/File/ACS_2015_lowmod_blockgroup_all.xlsx\n",
      "Downloaded from: https://www2.census.gov/geo/tiger/TIGER2022/COUNTY/tl_2022_us_county.zip\n",
      "Downloaded from: https://www2.census.gov/geo/tiger/TIGER2022/ZCTA520/tl_2022_us_zcta520.zip\n"
     ]
    }
   ],
   "source": [
    "download_raw(temp, wcard_dict)"
   ]
  },
  {
   "cell_type": "code",
   "execution_count": 5,
   "id": "951737fc-2554-42ef-9eb8-3656a8277d08",
   "metadata": {
    "execution": {
     "iopub.execute_input": "2023-10-17T14:55:46.727296Z",
     "iopub.status.busy": "2023-10-17T14:55:46.726917Z",
     "iopub.status.idle": "2023-10-17T14:55:46.759255Z",
     "shell.execute_reply": "2023-10-17T14:55:46.757452Z",
     "shell.execute_reply.started": "2023-10-17T14:55:46.727262Z"
    }
   },
   "outputs": [],
   "source": [
    "filepath = '/jumbo/keller-lab/projects/icom/nsi_unc/data/raw/42101/pol/nfhl.zip'"
   ]
  },
  {
   "cell_type": "code",
   "execution_count": 6,
   "id": "1ecc9c4e-78a3-45d9-bdb0-657a03084a7d",
   "metadata": {
    "execution": {
     "iopub.execute_input": "2023-10-17T14:55:47.596407Z",
     "iopub.status.busy": "2023-10-17T14:55:47.595903Z",
     "iopub.status.idle": "2023-10-17T14:55:47.641347Z",
     "shell.execute_reply": "2023-10-17T14:55:47.639555Z",
     "shell.execute_reply.started": "2023-10-17T14:55:47.596357Z"
    }
   },
   "outputs": [],
   "source": [
    "prepare_saving(filepath)"
   ]
  },
  {
   "cell_type": "code",
   "execution_count": 12,
   "id": "5f452bc7-70ff-40d9-a72f-4ef12a89674e",
   "metadata": {
    "execution": {
     "iopub.execute_input": "2023-10-17T14:59:53.668873Z",
     "iopub.status.busy": "2023-10-17T14:59:53.668512Z",
     "iopub.status.idle": "2023-10-17T14:59:54.520207Z",
     "shell.execute_reply": "2023-10-17T14:59:54.518645Z",
     "shell.execute_reply.started": "2023-10-17T14:59:53.668846Z"
    }
   },
   "outputs": [
    {
     "data": {
      "text/html": [
       "<div>\n",
       "<style scoped>\n",
       "    .dataframe tbody tr th:only-of-type {\n",
       "        vertical-align: middle;\n",
       "    }\n",
       "\n",
       "    .dataframe tbody tr th {\n",
       "        vertical-align: top;\n",
       "    }\n",
       "\n",
       "    .dataframe thead th {\n",
       "        text-align: right;\n",
       "    }\n",
       "</style>\n",
       "<table border=\"1\" class=\"dataframe\">\n",
       "  <thead>\n",
       "    <tr style=\"text-align: right;\">\n",
       "      <th></th>\n",
       "      <th>0</th>\n",
       "    </tr>\n",
       "  </thead>\n",
       "  <tbody>\n",
       "    <tr>\n",
       "      <th>FIPS_url_pol_nfhl</th>\n",
       "      <td>https://hazards.fema.gov/nfhlv2/output/County/...</td>\n",
       "    </tr>\n",
       "    <tr>\n",
       "      <th>STATE_FIPS_url_vuln_social_noaa</th>\n",
       "      <td>https://coast.noaa.gov/htdata/SocioEconomic/So...</td>\n",
       "    </tr>\n",
       "    <tr>\n",
       "      <th>STATE_FIPS_url_ref_tract</th>\n",
       "      <td>https://www2.census.gov/geo/tiger/TIGER2022/TR...</td>\n",
       "    </tr>\n",
       "    <tr>\n",
       "      <th>STATE_FIPS_url_ref_bg</th>\n",
       "      <td>https://www2.census.gov/geo/tiger/TIGER2022/BG...</td>\n",
       "    </tr>\n",
       "    <tr>\n",
       "      <th>STATE_FIPS_url_ref_block</th>\n",
       "      <td>https://www2.census.gov/geo/tiger/TIGER2022/TA...</td>\n",
       "    </tr>\n",
       "    <tr>\n",
       "      <th>NATION_url_vuln_social_cejst</th>\n",
       "      <td>https://static-data-screeningtool.geoplatform....</td>\n",
       "    </tr>\n",
       "    <tr>\n",
       "      <th>NATION_url_vuln_social_lmi</th>\n",
       "      <td>https://www.hudexchange.info/sites/onecpd/asse...</td>\n",
       "    </tr>\n",
       "    <tr>\n",
       "      <th>NATION_url_ref_county</th>\n",
       "      <td>https://www2.census.gov/geo/tiger/TIGER2022/CO...</td>\n",
       "    </tr>\n",
       "    <tr>\n",
       "      <th>NATION_url_ref_zcta</th>\n",
       "      <td>https://www2.census.gov/geo/tiger/TIGER2022/ZC...</td>\n",
       "    </tr>\n",
       "  </tbody>\n",
       "</table>\n",
       "</div>"
      ],
      "text/plain": [
       "                                                                                 0\n",
       "FIPS_url_pol_nfhl                https://hazards.fema.gov/nfhlv2/output/County/...\n",
       "STATE_FIPS_url_vuln_social_noaa  https://coast.noaa.gov/htdata/SocioEconomic/So...\n",
       "STATE_FIPS_url_ref_tract         https://www2.census.gov/geo/tiger/TIGER2022/TR...\n",
       "STATE_FIPS_url_ref_bg            https://www2.census.gov/geo/tiger/TIGER2022/BG...\n",
       "STATE_FIPS_url_ref_block         https://www2.census.gov/geo/tiger/TIGER2022/TA...\n",
       "NATION_url_vuln_social_cejst     https://static-data-screeningtool.geoplatform....\n",
       "NATION_url_vuln_social_lmi       https://www.hudexchange.info/sites/onecpd/asse...\n",
       "NATION_url_ref_county            https://www2.census.gov/geo/tiger/TIGER2022/CO...\n",
       "NATION_url_ref_zcta              https://www2.census.gov/geo/tiger/TIGER2022/ZC..."
      ]
     },
     "execution_count": 12,
     "metadata": {},
     "output_type": "execute_result"
    }
   ],
   "source": [
    "temp"
   ]
  },
  {
   "cell_type": "code",
   "execution_count": null,
   "id": "84b6fe97-d864-4ddd-b2da-f60d621c8772",
   "metadata": {},
   "outputs": [],
   "source": []
  }
 ],
 "metadata": {
  "kernelspec": {
   "display_name": "flrisk",
   "language": "python",
   "name": "flrisk"
  },
  "language_info": {
   "codemirror_mode": {
    "name": "ipython",
    "version": 3
   },
   "file_extension": ".py",
   "mimetype": "text/x-python",
   "name": "python",
   "nbconvert_exporter": "python",
   "pygments_lexer": "ipython3",
   "version": "3.11.5"
  },
  "widgets": {
   "application/vnd.jupyter.widget-state+json": {
    "state": {},
    "version_major": 2,
    "version_minor": 0
   }
  }
 },
 "nbformat": 4,
 "nbformat_minor": 5
}
