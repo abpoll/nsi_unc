{
 "cells": [
  {
   "cell_type": "markdown",
   "id": "a7b92c51-9735-4b45-b57b-a0986e5957f0",
   "metadata": {},
   "source": [
    "# Configure"
   ]
  },
  {
   "cell_type": "code",
   "execution_count": 1,
   "id": "8b5d60bb-bc9a-407f-b003-3b9e05c4b0d9",
   "metadata": {
    "execution": {
     "iopub.execute_input": "2023-10-11T20:50:18.633241Z",
     "iopub.status.busy": "2023-10-11T20:50:18.632748Z",
     "iopub.status.idle": "2023-10-11T20:50:18.680877Z",
     "shell.execute_reply": "2023-10-11T20:50:18.679435Z",
     "shell.execute_reply.started": "2023-10-11T20:50:18.633194Z"
    }
   },
   "outputs": [],
   "source": [
    "%load_ext autoreload\n",
    "%autoreload 2"
   ]
  },
  {
   "cell_type": "code",
   "execution_count": 2,
   "id": "1a8e5c3a-4cda-43d2-9adb-148ef787d147",
   "metadata": {
    "execution": {
     "iopub.execute_input": "2023-10-11T20:50:19.038493Z",
     "iopub.status.busy": "2023-10-11T20:50:19.038005Z",
     "iopub.status.idle": "2023-10-11T20:50:20.158646Z",
     "shell.execute_reply": "2023-10-11T20:50:20.157534Z",
     "shell.execute_reply.started": "2023-10-11T20:50:19.038448Z"
    }
   },
   "outputs": [],
   "source": [
    "# Packages\n",
    "import os\n",
    "from os.path import join\n",
    "from pathlib import Path\n",
    "import yaml\n",
    "from yaml.loader import SafeLoader\n",
    "import pandas as pd"
   ]
  },
  {
   "cell_type": "code",
   "execution_count": 3,
   "id": "98ef98b1-1a89-430f-9954-cb1c0f431c1d",
   "metadata": {
    "execution": {
     "iopub.execute_input": "2023-10-11T20:50:20.160199Z",
     "iopub.status.busy": "2023-10-11T20:50:20.159938Z",
     "iopub.status.idle": "2023-10-11T20:50:20.173613Z",
     "shell.execute_reply": "2023-10-11T20:50:20.172624Z",
     "shell.execute_reply.started": "2023-10-11T20:50:20.160182Z"
    }
   },
   "outputs": [],
   "source": [
    "# Absolute directory and config.yaml filepath\n",
    "ABS_DIR = os.path.abspath(Path(os.getcwd()).parents[1])\n",
    "config_filep = join(ABS_DIR, 'config', 'config.yaml')"
   ]
  },
  {
   "cell_type": "code",
   "execution_count": 4,
   "id": "98e5a86a-2e2c-4759-8e1b-01fce070fb43",
   "metadata": {
    "execution": {
     "iopub.execute_input": "2023-10-11T20:50:20.174202Z",
     "iopub.status.busy": "2023-10-11T20:50:20.174051Z",
     "iopub.status.idle": "2023-10-11T20:50:20.202317Z",
     "shell.execute_reply": "2023-10-11T20:50:20.201337Z",
     "shell.execute_reply.started": "2023-10-11T20:50:20.174186Z"
    }
   },
   "outputs": [],
   "source": [
    "# Get raw data directory\n",
    "FR = join(ABS_DIR, \"data\", \"raw\")"
   ]
  },
  {
   "cell_type": "code",
   "execution_count": null,
   "id": "4cd42680",
   "metadata": {},
   "outputs": [],
   "source": [
    "# Open the file and load the file\n",
    "with open(config_filep) as f:\n",
    "    config = yaml.load(f, Loader=SafeLoader)"
   ]
  },
  {
   "cell_type": "code",
   "execution_count": null,
   "id": "33c1463e",
   "metadata": {},
   "outputs": [],
   "source": [
    "# Get our constants\n",
    "FIPS = config['FIPS']\n",
    "STATE = config['STATE']\n",
    "STATE_ALPHA = config['STATE_ALPHA']\n",
    "\n",
    "# Get a dict of these constants\n",
    "FIPS_DICT = {\n",
    "    '{FIPS}': FIPS,\n",
    "    '{STATE}': STATE,\n",
    "    '{STATE_ALPHA}': STATE_ALPHA\n",
    "}\n",
    "\n",
    "# Get the files we need downloaded\n",
    "files = pd.json_normalize(config['download'], sep='_').T\n",
    "# Get the file extensions for api endpoints\n",
    "exts = config['api_ext']"
   ]
  },
  {
   "cell_type": "markdown",
   "id": "b567049a-ef64-48da-994e-04468be7b874",
   "metadata": {},
   "source": [
    "# Define utils"
   ]
  },
  {
   "cell_type": "code",
   "execution_count": 20,
   "id": "679ffbda-57c4-46ee-9de8-632dd7ad9d5e",
   "metadata": {
    "execution": {
     "iopub.execute_input": "2023-10-11T20:54:25.152711Z",
     "iopub.status.busy": "2023-10-11T20:54:25.152163Z",
     "iopub.status.idle": "2023-10-11T20:54:25.862991Z",
     "shell.execute_reply": "2023-10-11T20:54:25.860991Z",
     "shell.execute_reply.started": "2023-10-11T20:54:25.152664Z"
    }
   },
   "outputs": [],
   "source": [
    "# The fill_url function\n",
    "# For any URL/API endpoint, we want to replace\n",
    "# wildcard terms (FIPS, STATE, STATE_ALPHA)\n",
    "# with the appropriate value from the FIPS, STATE, or\n",
    "# STATE_ALPHA config values\n",
    "def fill_url(endpoint):    \n",
    "    # Get a list of all the wildcards we need to replace for this endpoint\n",
    "    fips_wildcards = [key for key,val in fips_dict.items() if key in endpoint]\n",
    "    # Loop through this list and replace that string with the value from\n",
    "    # fips_dict\n",
    "    for wildcard in fips_wildcards:\n",
    "        endpoint = endpoint.replace(wildcard, FIPS_DICT[wildcard])\n",
    "        \n",
    "    return endpoint\n",
    "# Example unit test\n",
    "# Might be worth it to have a unit test file? \n",
    "# test_endpoint = '{STATE}_{STATE_ALPHA}'\n",
    "# assert fill_url(test_endpoint) == 'PA_42'"
   ]
  },
  {
   "cell_type": "code",
   "execution_count": 27,
   "id": "8ddd9f8d-863c-42e0-8cf1-43e42c614903",
   "metadata": {
    "execution": {
     "iopub.execute_input": "2023-10-11T21:09:09.716892Z",
     "iopub.status.busy": "2023-10-11T21:09:09.716344Z",
     "iopub.status.idle": "2023-10-11T21:09:10.356764Z",
     "shell.execute_reply": "2023-10-11T21:09:10.354916Z",
     "shell.execute_reply.started": "2023-10-11T21:09:09.716846Z"
    }
   },
   "outputs": [],
   "source": [
    "# The get_dir helper function\n",
    "# For a list of string tokens, we\n",
    "# are returning a filepath and filename\n",
    "# The last string token is most of the filename\n",
    "# If the first token is api, we need to use the exts dict\n",
    "# and append it to the last string token\n",
    "# If the first token is url, we need to use the endpoint\n",
    "# that is passed here to get the exact ext we are downloading\n",
    "def get_dir(str_tokens, endpoint):\n",
    "    # Get url or api type\n",
    "    end_type = str_tokens[0]\n",
    "    # Get most of the filename\n",
    "    file_pre = str_tokens[-1]\n",
    "    # Join the middle tokens as a filepath\n",
    "    mid_dirs = '/'.join(str_tokens[1:-1])\n",
    "\n",
    "    # Implement the api vs. url processing\n",
    "    if end_type == 'api':\n",
    "        # For example, file_pre will be something like\n",
    "        # \"nsi\" which is also our key in the exts dict\n",
    "        # for the ext we need to use\n",
    "        filename = file_pre + exts[file_pre]\n",
    "    else:\n",
    "        # Ext is after the last '.' character\n",
    "        url_ext = endpoint.split('.')[-1]\n",
    "        filename = file_pre + '.' + url_ext\n",
    "\n",
    "    # Now join the raw directory with the mid_dirs\n",
    "    filepath = join(FR, mid_dirs, filename)\n",
    "    \n",
    "    # Return this directory path and the filename w/ extension\n",
    "    return filepath\n",
    "\n",
    "# Checking the nsi is correct\n",
    "# get_dir(['api', 'exp', 'nsi'], 'does not matter')\n",
    "\n",
    "# Checking something more complex is correct, like\n",
    "# a social vulnerability file which is in a nested directory\n",
    "# structure\n",
    "# get_dir(['url', 'vuln', 'social', 'noaa'],\n",
    "#          'https://coast.noaa.gov/htdata/SocioEconomic/SoVI2010/SoVI_2010_{STATE}.zip')"
   ]
  },
  {
   "cell_type": "code",
   "execution_count": 29,
   "id": "8da5c5d2-555b-4e95-a2f9-624df111091c",
   "metadata": {
    "execution": {
     "iopub.execute_input": "2023-10-11T21:11:41.905033Z",
     "iopub.status.busy": "2023-10-11T21:11:41.904464Z",
     "iopub.status.idle": "2023-10-11T21:11:42.506628Z",
     "shell.execute_reply": "2023-10-11T21:11:42.504659Z",
     "shell.execute_reply.started": "2023-10-11T21:11:41.904986Z"
    }
   },
   "outputs": [],
   "source": [
    "# The dwnld_out_files function\n",
    "# For each URL/API endpoint, we want to return the output\n",
    "# version of that file\n",
    "def dwnld_out_files(files):\n",
    "    # For each file that needs to be downloaded\n",
    "    # Get the filepath\n",
    "    # Return the list of these out files\n",
    "    out_list = []\n",
    "    for file in files.itertuples():\n",
    "        name = file[0]\n",
    "        endpoint = file[1]\n",
    "        # In the future, it makes sense to use the county, \n",
    "        # state, and national token to do some distributed\n",
    "        # processing, but we are just doing a one county\n",
    "        # case study to start. \n",
    "        # So, for now we are going to just use\n",
    "        # the strings from the 1st index onwards\n",
    "        str_tokens = name.split('_')[1:]\n",
    "        \n",
    "        # Helper function to return \n",
    "        # our filepath from our str_tokens\n",
    "        # The last token is our filename\n",
    "        # Everything after the second token and before this\n",
    "        # are file directories\n",
    "        # For API endpoints, we need to access the \"ext\" element\n",
    "        # to get the filename (urls include the file ext)\n",
    "        # We use the exts dict for this\n",
    "        filepath = get_dir(str_tokens, endpoint)\n",
    "        \n",
    "        # Add this filepath to our out_list\n",
    "        out_list.append(filepath)\n",
    "\n",
    "    return out_list"
   ]
  }
 ],
 "metadata": {
  "kernelspec": {
   "display_name": "flrisk",
   "language": "python",
   "name": "python3"
  },
  "language_info": {
   "codemirror_mode": {
    "name": "ipython",
    "version": 3
   },
   "file_extension": ".py",
   "mimetype": "text/x-python",
   "name": "python",
   "nbconvert_exporter": "python",
   "pygments_lexer": "ipython3",
   "version": "3.11.5"
  },
  "widgets": {
   "application/vnd.jupyter.widget-state+json": {
    "state": {},
    "version_major": 2,
    "version_minor": 0
   }
  }
 },
 "nbformat": 4,
 "nbformat_minor": 5
}
